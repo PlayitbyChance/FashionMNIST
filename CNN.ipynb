{
 "cells": [
  {
   "cell_type": "markdown",
   "metadata": {},
   "source": [
    "In the following I use a simple convolutional neural network to classify apparel from the fashion-MNIST dataset. I'm curious to see how well it works compared to the conventional MNIST dataset!\n",
    "\n",
    "https://github.com/zalandoresearch/fashion-mnist"
   ]
  },
  {
   "cell_type": "code",
   "execution_count": 1,
   "metadata": {},
   "outputs": [],
   "source": [
    "import numpy as np\n",
    "import pandas as pd\n",
    "import os\n",
    "import time\n",
    "from sklearn.model_selection import train_test_split\n",
    "\n",
    "from tensorflow.keras.utils import to_categorical\n",
    "\n",
    "import matplotlib.pyplot as plt\n",
    "import matplotlib.cm as cm"
   ]
  },
  {
   "cell_type": "code",
   "execution_count": 2,
   "metadata": {},
   "outputs": [],
   "source": [
    "# import data\n",
    "training_set = pd.read_csv('fashionmnist/fashion-mnist_train.csv')\n",
    "test_set = pd.read_csv('fashionmnist/fashion-mnist_test.csv')"
   ]
  },
  {
   "cell_type": "code",
   "execution_count": 3,
   "metadata": {},
   "outputs": [
    {
     "data": {
      "text/plain": [
       "Index(['label', 'pixel1', 'pixel2', 'pixel3', 'pixel4', 'pixel5', 'pixel6',\n",
       "       'pixel7', 'pixel8', 'pixel9',\n",
       "       ...\n",
       "       'pixel775', 'pixel776', 'pixel777', 'pixel778', 'pixel779', 'pixel780',\n",
       "       'pixel781', 'pixel782', 'pixel783', 'pixel784'],\n",
       "      dtype='object', length=785)"
      ]
     },
     "execution_count": 3,
     "metadata": {},
     "output_type": "execute_result"
    }
   ],
   "source": [
    "# For each entry of the dataset, there is a label as well as a value for each pixel in the image (28x28 pixels)\n",
    "# test_set is similar\n",
    "training_set.columns"
   ]
  },
  {
   "cell_type": "code",
   "execution_count": 4,
   "metadata": {},
   "outputs": [],
   "source": [
    "# creating a dictionary to help convert the integer labels into what they respresent for future use\n",
    "label_names ={0:'top', 1:'trouser', 2:'pullover', 3:'dress', 4:'coat', 5:'sandal', 6:'shirt', 7:'sneaker', 8:'bag', 9:'ankle boot'}"
   ]
  },
  {
   "cell_type": "code",
   "execution_count": 5,
   "metadata": {},
   "outputs": [],
   "source": [
    "# split into train/valid\n",
    "train_features, valid_features, train_labels, valid_labels = train_test_split(training_set[list(training_set.columns)[1:]], training_set['label'], test_size = .15)\n",
    "# split test set into features and labels \n",
    "test_features = test_set[list(test_set.columns)[1:]]\n",
    "test_labels = test_set['label']"
   ]
  },
  {
   "cell_type": "code",
   "execution_count": 6,
   "metadata": {},
   "outputs": [],
   "source": [
    "# reshaping the features so that the pixel values are arranged according to their place\n",
    "# converting to np arrays for use in model\n",
    "num_col = 28\n",
    "num_row = 28\n",
    "train_features = np.array(train_features).reshape(train_features.shape[0], num_row, num_col, 1)\n",
    "valid_features = np.array(valid_features).reshape(valid_features.shape[0], num_row, num_col, 1)\n",
    "test_features = np.array(test_features).reshape(test_features.shape[0], num_row, num_col, 1)\n",
    "\n",
    "train_labels = np.array(train_labels)\n",
    "valid_labels = np.array(valid_labels)\n",
    "test_labels = np.array(test_labels)"
   ]
  },
  {
   "cell_type": "code",
   "execution_count": 7,
   "metadata": {},
   "outputs": [
    {
     "data": {
      "image/png": "[encoded data removed]",
      "text/plain": [
       "<Figure size 504x504 with 1 Axes>"
      ]
     },
     "metadata": {
      "needs_background": "light"
     },
     "output_type": "display_data"
    },
    {
     "name": "stdout",
     "output_type": "stream",
     "text": [
      "sneaker\n"
     ]
    }
   ],
   "source": [
    "# we can build images from the data using the pixel values\n",
    "example_image = train_features[0].reshape(28,28)\n",
    "fig, ax = plt.subplots(1, 1, figsize = (7, 7))\n",
    "example = ax.imshow(example_image, cmap = cm.Greys_r, interpolation = 'none')    \n",
    "plt.show()\n",
    "# show the label for the image\n",
    "print(label_names[train_labels[0]])\n",
    "\n",
    "# while the image isn't the best, and this certainly isn't the best way to generate it, it's vaguely clear what the item is"
   ]
  },
  {
   "cell_type": "code",
   "execution_count": 8,
   "metadata": {},
   "outputs": [
    {
     "data": {
      "image/png": "[encoded data removed]",
      "text/plain": [
       "<Figure size 432x288 with 1 Axes>"
      ]
     },
     "metadata": {
      "needs_background": "light"
     },
     "output_type": "display_data"
    }
   ],
   "source": [
    "# checking if there's a class imbalance, turns out all classes have about equal representation\n",
    "plt.hist(train_labels)\n",
    "plt.show()"
   ]
  },
  {
   "cell_type": "code",
   "execution_count": 9,
   "metadata": {},
   "outputs": [],
   "source": [
    "# some final processing to normalize the pixel values to [0,1], and labels to appropiate categorical format \n",
    "train_features = train_features / 255\n",
    "valid_features = valid_features / 255\n",
    "test_features = test_features / 255\n",
    "\n",
    "train_labels = to_categorical(train_labels)\n",
    "valid_labels = to_categorical(valid_labels)\n",
    "test_labels = to_categorical(test_labels)"
   ]
  },
  {
   "cell_type": "code",
   "execution_count": 10,
   "metadata": {},
   "outputs": [
    {
     "data": {
      "text/plain": [
       "(51000, 10)"
      ]
     },
     "execution_count": 10,
     "metadata": {},
     "output_type": "execute_result"
    }
   ],
   "source": [
    "train_labels.shape"
   ]
  },
  {
   "cell_type": "markdown",
   "metadata": {},
   "source": [
    "Done with the initial data processing, moving onto building the model!\n",
    "Tensorflow with keras API is used. "
   ]
  },
  {
   "cell_type": "code",
   "execution_count": 11,
   "metadata": {},
   "outputs": [],
   "source": [
    "from tensorflow.keras.models import Sequential\n",
    "from tensorflow.keras.layers import Dense, Flatten, Convolution2D, MaxPooling2D, Dropout\n",
    "from tensorflow.keras.optimizers import RMSprop\n",
    "from tensorflow.keras import initializers\n",
    "from tensorflow.keras import backend as K\n",
    "import tensorflow as tf"
   ]
  },
  {
   "cell_type": "markdown",
   "metadata": {},
   "source": [
    "Below are most of the hyperparameters that are used for tuning (along with some constants such as input shape).\n",
    "Some observations:\n",
    "Dropout probability (prob_drop) has to be carefully set to prevent the model from overfitting too much while still learning well. .4 works pretty well.\n",
    "Smaller pool size tends to slow the learning rate significantly. Simply halving (2,2) seems best. \n",
    "Having 2 convolution layers and 2 fully connected layers has best performance. Similar performance could probably be had using more (and maybe fewer) layers with other hyperparameters changed. \n",
    "32 filters tends to work well for the \n"
   ]
  },
  {
   "cell_type": "code",
   "execution_count": 12,
   "metadata": {},
   "outputs": [],
   "source": [
    "input_shape = (28,28,1)\n",
    "prob_drop = .3 # usually good around .2 - .4\n",
    "pool_size = (2,2)\n",
    "classes = 10\n",
    "epochs = 20 # usually converges around 10-15\n",
    "batch_size = 100 \n",
    "max_conv_layers = 2 # best 2\n",
    "max_fc_layers = 2 # best 2\n",
    "first_layer_filters = 32 # 32 works well\n",
    "filters = 64 # 32 works well, more doesn't improve results\n",
    "dense_units = 512\n",
    "kernel_size = 3"
   ]
  },
  {
   "cell_type": "code",
   "execution_count": 13,
   "metadata": {},
   "outputs": [
    {
     "name": "stdout",
     "output_type": "stream",
     "text": [
      "WARNING:tensorflow:From D:\\Programming\\Anacondaaa\\envs\\TF\\lib\\site-packages\\tensorflow\\python\\ops\\resource_variable_ops.py:435: colocate_with (from tensorflow.python.framework.ops) is deprecated and will be removed in a future version.\n",
      "Instructions for updating:\n",
      "Colocations handled automatically by placer.\n",
      "WARNING:tensorflow:From D:\\Programming\\Anacondaaa\\envs\\TF\\lib\\site-packages\\tensorflow\\python\\keras\\layers\\core.py:143: calling dropout (from tensorflow.python.ops.nn_ops) with keep_prob is deprecated and will be removed in a future version.\n",
      "Instructions for updating:\n",
      "Please use `rate` instead of `keep_prob`. Rate should be set to `rate = 1 - keep_prob`.\n",
      "_________________________________________________________________\n",
      "Layer (type)                 Output Shape              Param #   \n",
      "=================================================================\n",
      "conv2d (Conv2D)              (None, 28, 28, 32)        320       \n",
      "_________________________________________________________________\n",
      "max_pooling2d (MaxPooling2D) (None, 14, 14, 32)        0         \n",
      "_________________________________________________________________\n",
      "dropout (Dropout)            (None, 14, 14, 32)        0         \n",
      "_________________________________________________________________\n",
      "conv2d_1 (Conv2D)            (None, 14, 14, 64)        18496     \n",
      "_________________________________________________________________\n",
      "flatten (Flatten)            (None, 12544)             0         \n",
      "_________________________________________________________________\n",
      "dropout_1 (Dropout)          (None, 12544)             0         \n",
      "_________________________________________________________________\n",
      "dense (Dense)                (None, 512)               6423040   \n",
      "_________________________________________________________________\n",
      "dropout_2 (Dropout)          (None, 512)               0         \n",
      "_________________________________________________________________\n",
      "dense_1 (Dense)              (None, 10)                5130      \n",
      "=================================================================\n",
      "Total params: 6,446,986\n",
      "Trainable params: 6,446,986\n",
      "Non-trainable params: 0\n",
      "_________________________________________________________________\n"
     ]
    }
   ],
   "source": [
    "## using the keras sequential model for the CNN\n",
    "model = Sequential()\n",
    "\n",
    "# input layer/convolutional layer 1\n",
    "\n",
    "# convolutional layers convert the original matrix of values into another matrix representing different parts of the image.\n",
    "# as the model learns, it will get better as converting parts of the image into useful values\n",
    "model.add(Convolution2D(filters = first_layer_filters, kernel_size = kernel_size, strides = 1, activation='relu', \n",
    "                        input_shape=input_shape, padding = 'same'))\n",
    "\n",
    "# pooling helps make the model more efficient by reducing the size of the representation outputted by the Convolution2D portion\n",
    "model.add(MaxPooling2D(pool_size=pool_size, padding = 'same', strides=(2,2)))\n",
    "\n",
    "#lower the dimension before passing to fully connected layers, if this is the last layer\n",
    "if max_conv_layers == 1:\n",
    "    model.add(Flatten())\n",
    "# dropout layers cause random connections to be dropped at each training step. This helps prevent the model from overfitting\n",
    "model.add(Dropout(rate = prob_drop))\n",
    "\n",
    "# add more convolutional layers\n",
    "for conv_layer in range(max_conv_layers - 1):\n",
    "    model.add(Convolution2D(filters = filters, kernel_size = kernel_size, strides = 1, activation = 'relu', padding = 'same'))\n",
    "    #model.add(MaxPooling2D(pool_size = pool_size, padding = 'same', strides=(2,2)))\n",
    "    # for the last convolutional layer, lower the dimension before passing to fully connected layers\n",
    "    if conv_layer == (max_conv_layers - 2):\n",
    "        model.add(Flatten())\n",
    "    model.add(Dropout(rate = prob_drop))\n",
    "    \n",
    "# add some fully connected layers for the end steps of the model\n",
    "for fc_layer in range(max_fc_layers - 1):\n",
    "    # a simple dense neural network\n",
    "    model.add(Dense(dense_units, activation = 'relu'))\n",
    "    # dropout layer to prevent overfitting\n",
    "    model.add(Dropout(rate = prob_drop))\n",
    "\n",
    "# final classification layer (uses softmax to output values for each of the 10 classes)\n",
    "model.add(Dense(classes, activation = 'softmax'))\n",
    "\n",
    "# simple summary of the model\n",
    "model.summary()\n",
    "\n",
    "opt = RMSprop(lr=0.001, rho=0.9)\n",
    "model.compile(optimizer=opt, loss='categorical_crossentropy', metrics=['accuracy'])"
   ]
  },
  {
   "cell_type": "code",
   "execution_count": 14,
   "metadata": {},
   "outputs": [
    {
     "name": "stdout",
     "output_type": "stream",
     "text": [
      "Train on 51000 samples, validate on 9000 samples\n",
      "WARNING:tensorflow:From D:\\Programming\\Anacondaaa\\envs\\TF\\lib\\site-packages\\tensorflow\\python\\ops\\math_ops.py:3066: to_int32 (from tensorflow.python.ops.math_ops) is deprecated and will be removed in a future version.\n",
      "Instructions for updating:\n",
      "Use tf.cast instead.\n",
      "Epoch 1/20\n",
      "51000/51000 [==============================] - 9s 180us/sample - loss: 0.4769 - acc: 0.8285 - val_loss: 0.3178 - val_acc: 0.8854\n",
      "Epoch 2/20\n",
      "51000/51000 [==============================] - 8s 152us/sample - loss: 0.3063 - acc: 0.8891 - val_loss: 0.2595 - val_acc: 0.9079\n",
      "Epoch 3/20\n",
      "51000/51000 [==============================] - 8s 151us/sample - loss: 0.2659 - acc: 0.9045 - val_loss: 0.2334 - val_acc: 0.9170\n",
      "Epoch 4/20\n",
      "51000/51000 [==============================] - 8s 151us/sample - loss: 0.2451 - acc: 0.9119 - val_loss: 0.2427 - val_acc: 0.9124\n",
      "Epoch 5/20\n",
      "51000/51000 [==============================] - 8s 151us/sample - loss: 0.2277 - acc: 0.9170 - val_loss: 0.2353 - val_acc: 0.9191\n",
      "Epoch 6/20\n",
      "51000/51000 [==============================] - 8s 151us/sample - loss: 0.2205 - acc: 0.9213 - val_loss: 0.2271 - val_acc: 0.9211\n",
      "Epoch 7/20\n",
      "51000/51000 [==============================] - 8s 152us/sample - loss: 0.2107 - acc: 0.9250 - val_loss: 0.2381 - val_acc: 0.9157\n",
      "Epoch 8/20\n",
      "51000/51000 [==============================] - 8s 152us/sample - loss: 0.2033 - acc: 0.9266 - val_loss: 0.2456 - val_acc: 0.9207\n",
      "Epoch 9/20\n",
      "51000/51000 [==============================] - 8s 152us/sample - loss: 0.2007 - acc: 0.9287 - val_loss: 0.2226 - val_acc: 0.9277\n",
      "Epoch 10/20\n",
      "51000/51000 [==============================] - 8s 152us/sample - loss: 0.1982 - acc: 0.9297 - val_loss: 0.2334 - val_acc: 0.9227\n",
      "Epoch 11/20\n",
      "51000/51000 [==============================] - 8s 152us/sample - loss: 0.1981 - acc: 0.9304 - val_loss: 0.2203 - val_acc: 0.9247\n",
      "Epoch 12/20\n",
      "51000/51000 [==============================] - 8s 151us/sample - loss: 0.1983 - acc: 0.9306 - val_loss: 0.2377 - val_acc: 0.9261\n",
      "Epoch 13/20\n",
      "51000/51000 [==============================] - 8s 151us/sample - loss: 0.1940 - acc: 0.9337 - val_loss: 0.2310 - val_acc: 0.9253\n",
      "Epoch 14/20\n",
      "51000/51000 [==============================] - 8s 151us/sample - loss: 0.1940 - acc: 0.9333 - val_loss: 0.2938 - val_acc: 0.9169\n",
      "Epoch 15/20\n",
      "51000/51000 [==============================] - 8s 155us/sample - loss: 0.1936 - acc: 0.9329 - val_loss: 0.2578 - val_acc: 0.9229\n",
      "Epoch 16/20\n",
      "51000/51000 [==============================] - 8s 154us/sample - loss: 0.1927 - acc: 0.9339 - val_loss: 0.2401 - val_acc: 0.9240\n",
      "Epoch 17/20\n",
      "51000/51000 [==============================] - 8s 151us/sample - loss: 0.1926 - acc: 0.9337 - val_loss: 0.2376 - val_acc: 0.9236\n",
      "Epoch 18/20\n",
      "51000/51000 [==============================] - 8s 150us/sample - loss: 0.1921 - acc: 0.9348 - val_loss: 0.3465 - val_acc: 0.9178\n",
      "Epoch 19/20\n",
      "51000/51000 [==============================] - 8s 150us/sample - loss: 0.1877 - acc: 0.9351 - val_loss: 0.2478 - val_acc: 0.9201\n",
      "Epoch 20/20\n",
      "51000/51000 [==============================] - 8s 150us/sample - loss: 0.1916 - acc: 0.9347 - val_loss: 0.3140 - val_acc: 0.9197\n"
     ]
    }
   ],
   "source": [
    "history = model.fit(train_features, train_labels, epochs = epochs, batch_size = batch_size, validation_data = (valid_features, valid_labels), shuffle = True)"
   ]
  },
  {
   "cell_type": "markdown",
   "metadata": {},
   "source": [
    "After finding sufficiently good hyperparameters, the model is retrained using all the train and validation data. "
   ]
  },
  {
   "cell_type": "code",
   "execution_count": 15,
   "metadata": {},
   "outputs": [],
   "source": [
    "features = np.vstack((train_features, valid_features))\n",
    "labels = np.vstack((train_labels, valid_labels))"
   ]
  },
  {
   "cell_type": "code",
   "execution_count": 16,
   "metadata": {},
   "outputs": [
    {
     "name": "stdout",
     "output_type": "stream",
     "text": [
      "_________________________________________________________________\n",
      "Layer (type)                 Output Shape              Param #   \n",
      "=================================================================\n",
      "conv2d_2 (Conv2D)            (None, 28, 28, 32)        320       \n",
      "_________________________________________________________________\n",
      "max_pooling2d_1 (MaxPooling2 (None, 14, 14, 32)        0         \n",
      "_________________________________________________________________\n",
      "dropout_3 (Dropout)          (None, 14, 14, 32)        0         \n",
      "_________________________________________________________________\n",
      "conv2d_3 (Conv2D)            (None, 14, 14, 64)        18496     \n",
      "_________________________________________________________________\n",
      "flatten_1 (Flatten)          (None, 12544)             0         \n",
      "_________________________________________________________________\n",
      "dropout_4 (Dropout)          (None, 12544)             0         \n",
      "_________________________________________________________________\n",
      "dense_2 (Dense)              (None, 512)               6423040   \n",
      "_________________________________________________________________\n",
      "dropout_5 (Dropout)          (None, 512)               0         \n",
      "_________________________________________________________________\n",
      "dense_3 (Dense)              (None, 10)                5130      \n",
      "=================================================================\n",
      "Total params: 6,446,986\n",
      "Trainable params: 6,446,986\n",
      "Non-trainable params: 0\n",
      "_________________________________________________________________\n"
     ]
    }
   ],
   "source": [
    "## using the keras sequential model for the CNN\n",
    "model = Sequential()\n",
    "\n",
    "# input layer/convolutional layer 1\n",
    "\n",
    "# convolutional layers convert the original matrix of values into another matrix representing different parts of the image.\n",
    "# as the model learns, it will get better as converting parts of the image into useful values\n",
    "model.add(Convolution2D(filters = first_layer_filters, kernel_size = kernel_size, strides = 1, activation='relu', \n",
    "                        input_shape=input_shape, padding = 'same'))\n",
    "\n",
    "# pooling helps make the model more efficient by reducing the size of the representation outputted by the Convolution2D portion\n",
    "model.add(MaxPooling2D(pool_size=pool_size, padding = 'same', strides=(2,2)))\n",
    "\n",
    "#lower the dimension before passing to fully connected layers, if this is the last layer\n",
    "if max_conv_layers == 1:\n",
    "    model.add(Flatten())\n",
    "# dropout layers cause random connections to be dropped at each training step. This helps prevent the model from overfitting\n",
    "model.add(Dropout(rate = prob_drop))\n",
    "\n",
    "# add more convolutional layers\n",
    "for conv_layer in range(max_conv_layers - 1):\n",
    "    model.add(Convolution2D(filters = filters, kernel_size = kernel_size, strides = 1, activation = 'relu', padding = 'same'))\n",
    "    #model.add(MaxPooling2D(pool_size = pool_size, padding = 'same', strides=(2,2)))\n",
    "    # for the last convolutional layer, lower the dimension before passing to fully connected layers\n",
    "    if conv_layer == (max_conv_layers - 2):\n",
    "        model.add(Flatten())\n",
    "    model.add(Dropout(rate = prob_drop))\n",
    "    \n",
    "# add some fully connected layers for the end steps of the model\n",
    "for fc_layer in range(max_fc_layers - 1):\n",
    "    # a simple dense neural network\n",
    "    model.add(Dense(dense_units, activation = 'relu'))\n",
    "    # dropout layer to prevent overfitting\n",
    "    model.add(Dropout(rate = prob_drop))\n",
    "\n",
    "# final classification layer (uses softmax to output values for each of the 10 classes)\n",
    "model.add(Dense(classes, activation = 'softmax'))\n",
    "\n",
    "# simple summary of the model\n",
    "model.summary()\n",
    "\n",
    "opt = RMSprop(lr=0.001, rho=0.9)\n",
    "model.compile(optimizer=opt, loss='categorical_crossentropy', metrics=['accuracy'])"
   ]
  },
  {
   "cell_type": "code",
   "execution_count": 17,
   "metadata": {},
   "outputs": [
    {
     "name": "stdout",
     "output_type": "stream",
     "text": [
      "Train on 60000 samples, validate on 10000 samples\n",
      "Epoch 1/20\n",
      "60000/60000 [==============================] - 9s 158us/sample - loss: 0.4497 - acc: 0.8378 - val_loss: 0.3199 - val_acc: 0.8849\n",
      "Epoch 2/20\n",
      "60000/60000 [==============================] - 9s 152us/sample - loss: 0.2944 - acc: 0.8934 - val_loss: 0.2595 - val_acc: 0.9101\n",
      "Epoch 3/20\n",
      "60000/60000 [==============================] - 9s 152us/sample - loss: 0.2557 - acc: 0.9072 - val_loss: 0.2446 - val_acc: 0.9129\n",
      "Epoch 4/20\n",
      "60000/60000 [==============================] - 9s 152us/sample - loss: 0.2373 - acc: 0.9135 - val_loss: 0.2335 - val_acc: 0.9218\n",
      "Epoch 5/20\n",
      "60000/60000 [==============================] - 9s 152us/sample - loss: 0.2240 - acc: 0.9201 - val_loss: 0.2120 - val_acc: 0.9255\n",
      "Epoch 6/20\n",
      "60000/60000 [==============================] - 9s 152us/sample - loss: 0.2180 - acc: 0.9230 - val_loss: 0.2300 - val_acc: 0.9274\n",
      "Epoch 7/20\n",
      "60000/60000 [==============================] - 9s 151us/sample - loss: 0.2153 - acc: 0.9241 - val_loss: 0.2212 - val_acc: 0.9235\n",
      "Epoch 8/20\n",
      "60000/60000 [==============================] - 9s 152us/sample - loss: 0.2095 - acc: 0.9254 - val_loss: 0.2477 - val_acc: 0.9221\n",
      "Epoch 9/20\n",
      "60000/60000 [==============================] - 9s 152us/sample - loss: 0.2063 - acc: 0.9276 - val_loss: 0.2168 - val_acc: 0.9248\n",
      "Epoch 10/20\n",
      "60000/60000 [==============================] - 9s 151us/sample - loss: 0.2042 - acc: 0.9286 - val_loss: 0.2073 - val_acc: 0.9290\n",
      "Epoch 11/20\n",
      "60000/60000 [==============================] - 9s 152us/sample - loss: 0.2030 - acc: 0.9287 - val_loss: 0.2366 - val_acc: 0.9222\n",
      "Epoch 12/20\n",
      "60000/60000 [==============================] - 9s 152us/sample - loss: 0.2006 - acc: 0.9305 - val_loss: 0.3377 - val_acc: 0.9161\n",
      "Epoch 13/20\n",
      "60000/60000 [==============================] - 9s 151us/sample - loss: 0.2036 - acc: 0.9294 - val_loss: 0.2362 - val_acc: 0.9273\n",
      "Epoch 14/20\n",
      "60000/60000 [==============================] - 9s 151us/sample - loss: 0.2008 - acc: 0.9310 - val_loss: 0.2136 - val_acc: 0.9304\n",
      "Epoch 15/20\n",
      "60000/60000 [==============================] - 9s 151us/sample - loss: 0.2018 - acc: 0.9306 - val_loss: 0.2344 - val_acc: 0.9238\n",
      "Epoch 16/20\n",
      "60000/60000 [==============================] - 9s 151us/sample - loss: 0.2017 - acc: 0.9309 - val_loss: 0.2814 - val_acc: 0.9224\n",
      "Epoch 17/20\n",
      "60000/60000 [==============================] - 9s 151us/sample - loss: 0.2009 - acc: 0.9314 - val_loss: 0.2486 - val_acc: 0.9266\n",
      "Epoch 18/20\n",
      "60000/60000 [==============================] - 9s 150us/sample - loss: 0.2013 - acc: 0.9310 - val_loss: 0.2260 - val_acc: 0.9253\n",
      "Epoch 19/20\n",
      "60000/60000 [==============================] - 9s 150us/sample - loss: 0.2014 - acc: 0.9311 - val_loss: 0.2850 - val_acc: 0.9185\n",
      "Epoch 20/20\n",
      "60000/60000 [==============================] - 9s 151us/sample - loss: 0.2049 - acc: 0.9312 - val_loss: 0.3204 - val_acc: 0.9158\n"
     ]
    }
   ],
   "source": [
    "history = model.fit(features, labels, epochs = epochs, batch_size = batch_size, validation_data = (test_features, test_labels), shuffle = True)"
   ]
  },
  {
   "cell_type": "code",
   "execution_count": 18,
   "metadata": {},
   "outputs": [
    {
     "name": "stdout",
     "output_type": "stream",
     "text": [
      "10000/10000 [==============================] - 1s 74us/sample - loss: 0.3204 - acc: 0.9158\n"
     ]
    },
    {
     "data": {
      "text/plain": [
       "[0.32038994684219363, 0.9158]"
      ]
     },
     "execution_count": 18,
     "metadata": {},
     "output_type": "execute_result"
    }
   ],
   "source": [
    "# final evaluation using the test data\n",
    "model.evaluate(test_features, test_labels)"
   ]
  },
  {
   "cell_type": "code",
   "execution_count": 19,
   "metadata": {},
   "outputs": [
    {
     "data": {
      "image/png": "[encoded data removed]",
      "text/plain": [
       "<Figure size 504x504 with 1 Axes>"
      ]
     },
     "metadata": {
      "needs_background": "light"
     },
     "output_type": "display_data"
    },
    {
     "name": "stdout",
     "output_type": "stream",
     "text": [
      "Predicted label: top\n",
      "Actual label: top\n"
     ]
    }
   ],
   "source": [
    "# quick example classification\n",
    "example_image = test_features[0].reshape(28,28)\n",
    "fig, ax = plt.subplots(1, 1, figsize = (7, 7))\n",
    "example = ax.imshow(example_image, cmap = cm.Greys_r, interpolation = 'none')    \n",
    "plt.show()\n",
    "print('Predicted label: ' + str(label_names[np.argmax(model.predict(test_features)[0])]))\n",
    "print('Actual label: ' + str(label_names[np.argmax(test_labels[0])]))"
   ]
  }
 ],
 "metadata": {
  "kernelspec": {
   "display_name": "Python 3",
   "language": "python",
   "name": "python3"
  },
  "language_info": {
   "codemirror_mode": {
    "name": "ipython",
    "version": 3
   },
   "file_extension": ".py",
   "mimetype": "text/x-python",
   "name": "python",
   "nbconvert_exporter": "python",
   "pygments_lexer": "ipython3",
   "version": "3.7.3"
  }
 },
 "nbformat": 4,
 "nbformat_minor": 2
}
